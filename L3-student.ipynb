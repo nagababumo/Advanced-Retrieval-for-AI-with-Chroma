{
 "cells": [
  {
   "cell_type": "markdown",
   "id": "293bcfbc-0883-4d68-be80-32329f3ca049",
   "metadata": {},
   "source": [
    "# Lab 3 - Query Expansion"
   ]
  },
  {
   "cell_type": "code",
   "execution_count": 1,
   "id": "5a5536f0-651c-40e7-aa15-27ee0cda80b7",
   "metadata": {
    "height": 96
   },
   "outputs": [],
   "source": [
    "from helper_utils import load_chroma, word_wrap, project_embeddings\n",
    "from chromadb.utils.embedding_functions import SentenceTransformerEmbeddingFunction"
   ]
  },
  {
   "cell_type": "code",
   "execution_count": 2,
   "id": "3748b16d-d4a7-49c3-a48a-57dcfc42acd6",
   "metadata": {
    "height": 98
   },
   "outputs": [
    {
     "data": {
      "application/vnd.jupyter.widget-view+json": {
       "model_id": "2c003fc99cdc41ebacc44e7a48e52b1c",
       "version_major": 2,
       "version_minor": 0
      },
      "text/plain": [
       ".gitattributes:   0%|          | 0.00/1.23k [00:00<?, ?B/s]"
      ]
     },
     "metadata": {},
     "output_type": "display_data"
    },
    {
     "data": {
      "application/vnd.jupyter.widget-view+json": {
       "model_id": "206d32c9210b45d6bc8b733a4fb85cd9",
       "version_major": 2,
       "version_minor": 0
      },
      "text/plain": [
       "1_Pooling/config.json:   0%|          | 0.00/190 [00:00<?, ?B/s]"
      ]
     },
     "metadata": {},
     "output_type": "display_data"
    },
    {
     "data": {
      "application/vnd.jupyter.widget-view+json": {
       "model_id": "12a86696c07b41cc9a332e03dcc9413b",
       "version_major": 2,
       "version_minor": 0
      },
      "text/plain": [
       "README.md:   0%|          | 0.00/10.7k [00:00<?, ?B/s]"
      ]
     },
     "metadata": {},
     "output_type": "display_data"
    },
    {
     "data": {
      "application/vnd.jupyter.widget-view+json": {
       "model_id": "e99cdf1f5c9546c48edce4b1ba8fe216",
       "version_major": 2,
       "version_minor": 0
      },
      "text/plain": [
       "config.json:   0%|          | 0.00/612 [00:00<?, ?B/s]"
      ]
     },
     "metadata": {},
     "output_type": "display_data"
    },
    {
     "data": {
      "application/vnd.jupyter.widget-view+json": {
       "model_id": "5379dc973d14488d91f45932acac45ca",
       "version_major": 2,
       "version_minor": 0
      },
      "text/plain": [
       "config_sentence_transformers.json:   0%|          | 0.00/116 [00:00<?, ?B/s]"
      ]
     },
     "metadata": {},
     "output_type": "display_data"
    },
    {
     "data": {
      "application/vnd.jupyter.widget-view+json": {
       "model_id": "966ba283face4c28a054ee6fc94d0ec9",
       "version_major": 2,
       "version_minor": 0
      },
      "text/plain": [
       "data_config.json:   0%|          | 0.00/39.3k [00:00<?, ?B/s]"
      ]
     },
     "metadata": {},
     "output_type": "display_data"
    },
    {
     "data": {
      "application/vnd.jupyter.widget-view+json": {
       "model_id": "a85279e19156473698f7bb952d1f7762",
       "version_major": 2,
       "version_minor": 0
      },
      "text/plain": [
       "model.safetensors:   0%|          | 0.00/90.9M [00:00<?, ?B/s]"
      ]
     },
     "metadata": {},
     "output_type": "display_data"
    },
    {
     "data": {
      "application/vnd.jupyter.widget-view+json": {
       "model_id": "2db7072cc16a4485ad3dd90a1f24c94d",
       "version_major": 2,
       "version_minor": 0
      },
      "text/plain": [
       "model.onnx:   0%|          | 0.00/90.4M [00:00<?, ?B/s]"
      ]
     },
     "metadata": {},
     "output_type": "display_data"
    },
    {
     "data": {
      "application/vnd.jupyter.widget-view+json": {
       "model_id": "45c56fd895884daf8ca3eb9d7ebd03d3",
       "version_major": 2,
       "version_minor": 0
      },
      "text/plain": [
       "pytorch_model.bin:   0%|          | 0.00/90.9M [00:00<?, ?B/s]"
      ]
     },
     "metadata": {},
     "output_type": "display_data"
    },
    {
     "data": {
      "application/vnd.jupyter.widget-view+json": {
       "model_id": "8cac2bf00c03418ba7a80b52396dc6a1",
       "version_major": 2,
       "version_minor": 0
      },
      "text/plain": [
       "sentence_bert_config.json:   0%|          | 0.00/53.0 [00:00<?, ?B/s]"
      ]
     },
     "metadata": {},
     "output_type": "display_data"
    },
    {
     "data": {
      "application/vnd.jupyter.widget-view+json": {
       "model_id": "2f319a01dd8a46dd81256d53644bd1ff",
       "version_major": 2,
       "version_minor": 0
      },
      "text/plain": [
       "special_tokens_map.json:   0%|          | 0.00/112 [00:00<?, ?B/s]"
      ]
     },
     "metadata": {},
     "output_type": "display_data"
    },
    {
     "data": {
      "application/vnd.jupyter.widget-view+json": {
       "model_id": "2a9c0a68f21c4ca9b9ba72394f37067e",
       "version_major": 2,
       "version_minor": 0
      },
      "text/plain": [
       "tokenizer.json:   0%|          | 0.00/466k [00:00<?, ?B/s]"
      ]
     },
     "metadata": {},
     "output_type": "display_data"
    },
    {
     "data": {
      "application/vnd.jupyter.widget-view+json": {
       "model_id": "f91c9c4ca5054c518ab183b3adc8c1d9",
       "version_major": 2,
       "version_minor": 0
      },
      "text/plain": [
       "tokenizer_config.json:   0%|          | 0.00/350 [00:00<?, ?B/s]"
      ]
     },
     "metadata": {},
     "output_type": "display_data"
    },
    {
     "data": {
      "application/vnd.jupyter.widget-view+json": {
       "model_id": "0510c0636cdc4708a2edcdd50d625cd5",
       "version_major": 2,
       "version_minor": 0
      },
      "text/plain": [
       "train_script.py:   0%|          | 0.00/13.2k [00:00<?, ?B/s]"
      ]
     },
     "metadata": {},
     "output_type": "display_data"
    },
    {
     "data": {
      "application/vnd.jupyter.widget-view+json": {
       "model_id": "a80dca6764de40b6bb6bdf27f429d2ed",
       "version_major": 2,
       "version_minor": 0
      },
      "text/plain": [
       "vocab.txt:   0%|          | 0.00/232k [00:00<?, ?B/s]"
      ]
     },
     "metadata": {},
     "output_type": "display_data"
    },
    {
     "data": {
      "application/vnd.jupyter.widget-view+json": {
       "model_id": "8a8a434816084fcfbe1ab0a16781b63b",
       "version_major": 2,
       "version_minor": 0
      },
      "text/plain": [
       "modules.json:   0%|          | 0.00/349 [00:00<?, ?B/s]"
      ]
     },
     "metadata": {},
     "output_type": "display_data"
    },
    {
     "data": {
      "application/vnd.jupyter.widget-view+json": {
       "model_id": "64875ac3dd074a46b6afa0cdefa5128e",
       "version_major": 2,
       "version_minor": 0
      },
      "text/plain": [
       ".gitattributes:   0%|          | 0.00/1.23k [00:00<?, ?B/s]"
      ]
     },
     "metadata": {},
     "output_type": "display_data"
    },
    {
     "data": {
      "application/vnd.jupyter.widget-view+json": {
       "model_id": "3686924f65d540048518152f6dfbd071",
       "version_major": 2,
       "version_minor": 0
      },
      "text/plain": [
       "1_Pooling/config.json:   0%|          | 0.00/190 [00:00<?, ?B/s]"
      ]
     },
     "metadata": {},
     "output_type": "display_data"
    },
    {
     "data": {
      "application/vnd.jupyter.widget-view+json": {
       "model_id": "fe44b7b11a9342bb8d57bc55127b679e",
       "version_major": 2,
       "version_minor": 0
      },
      "text/plain": [
       "README.md:   0%|          | 0.00/10.6k [00:00<?, ?B/s]"
      ]
     },
     "metadata": {},
     "output_type": "display_data"
    },
    {
     "data": {
      "application/vnd.jupyter.widget-view+json": {
       "model_id": "9df60858b8754379acfde0a339110494",
       "version_major": 2,
       "version_minor": 0
      },
      "text/plain": [
       "config.json:   0%|          | 0.00/571 [00:00<?, ?B/s]"
      ]
     },
     "metadata": {},
     "output_type": "display_data"
    },
    {
     "data": {
      "application/vnd.jupyter.widget-view+json": {
       "model_id": "b0c32a7d073549238a313e754955f7ea",
       "version_major": 2,
       "version_minor": 0
      },
      "text/plain": [
       "config_sentence_transformers.json:   0%|          | 0.00/116 [00:00<?, ?B/s]"
      ]
     },
     "metadata": {},
     "output_type": "display_data"
    },
    {
     "data": {
      "application/vnd.jupyter.widget-view+json": {
       "model_id": "77c13684beee4de3bf28454364f1c014",
       "version_major": 2,
       "version_minor": 0
      },
      "text/plain": [
       "data_config.json:   0%|          | 0.00/39.3k [00:00<?, ?B/s]"
      ]
     },
     "metadata": {},
     "output_type": "display_data"
    },
    {
     "data": {
      "application/vnd.jupyter.widget-view+json": {
       "model_id": "73531415e39442be998b1433fa2bc819",
       "version_major": 2,
       "version_minor": 0
      },
      "text/plain": [
       "model.safetensors:   0%|          | 0.00/438M [00:00<?, ?B/s]"
      ]
     },
     "metadata": {},
     "output_type": "display_data"
    },
    {
     "data": {
      "application/vnd.jupyter.widget-view+json": {
       "model_id": "fa35431162db426a90a884d7e0467380",
       "version_major": 2,
       "version_minor": 0
      },
      "text/plain": [
       "pytorch_model.bin:   0%|          | 0.00/438M [00:00<?, ?B/s]"
      ]
     },
     "metadata": {},
     "output_type": "display_data"
    },
    {
     "data": {
      "application/vnd.jupyter.widget-view+json": {
       "model_id": "c631bc124f6841c98209762184b9cbf9",
       "version_major": 2,
       "version_minor": 0
      },
      "text/plain": [
       "sentence_bert_config.json:   0%|          | 0.00/53.0 [00:00<?, ?B/s]"
      ]
     },
     "metadata": {},
     "output_type": "display_data"
    },
    {
     "data": {
      "application/vnd.jupyter.widget-view+json": {
       "model_id": "391cfc3ebfa6424f86e4030b07866c9c",
       "version_major": 2,
       "version_minor": 0
      },
      "text/plain": [
       "special_tokens_map.json:   0%|          | 0.00/239 [00:00<?, ?B/s]"
      ]
     },
     "metadata": {},
     "output_type": "display_data"
    },
    {
     "data": {
      "application/vnd.jupyter.widget-view+json": {
       "model_id": "cbd418ec11c54f048a8cfe647e3b7a17",
       "version_major": 2,
       "version_minor": 0
      },
      "text/plain": [
       "tokenizer.json:   0%|          | 0.00/466k [00:00<?, ?B/s]"
      ]
     },
     "metadata": {},
     "output_type": "display_data"
    },
    {
     "data": {
      "application/vnd.jupyter.widget-view+json": {
       "model_id": "b31cd7963fbc4395b98d303eff857499",
       "version_major": 2,
       "version_minor": 0
      },
      "text/plain": [
       "tokenizer_config.json:   0%|          | 0.00/363 [00:00<?, ?B/s]"
      ]
     },
     "metadata": {},
     "output_type": "display_data"
    },
    {
     "data": {
      "application/vnd.jupyter.widget-view+json": {
       "model_id": "1ce06d54ae0c4e21938a89ecf27c665f",
       "version_major": 2,
       "version_minor": 0
      },
      "text/plain": [
       "train_script.py:   0%|          | 0.00/13.1k [00:00<?, ?B/s]"
      ]
     },
     "metadata": {},
     "output_type": "display_data"
    },
    {
     "data": {
      "application/vnd.jupyter.widget-view+json": {
       "model_id": "d2d050f1b8ac4d209bd66a825affd2a4",
       "version_major": 2,
       "version_minor": 0
      },
      "text/plain": [
       "vocab.txt:   0%|          | 0.00/232k [00:00<?, ?B/s]"
      ]
     },
     "metadata": {},
     "output_type": "display_data"
    },
    {
     "data": {
      "application/vnd.jupyter.widget-view+json": {
       "model_id": "b570749df1534207ae467f69c61afab0",
       "version_major": 2,
       "version_minor": 0
      },
      "text/plain": [
       "modules.json:   0%|          | 0.00/349 [00:00<?, ?B/s]"
      ]
     },
     "metadata": {},
     "output_type": "display_data"
    },
    {
     "data": {
      "text/plain": [
       "349"
      ]
     },
     "execution_count": 2,
     "metadata": {},
     "output_type": "execute_result"
    }
   ],
   "source": [
    "embedding_function = SentenceTransformerEmbeddingFunction()\n",
    "\n",
    "chroma_collection = load_chroma(filename='microsoft_annual_report_2022.pdf', collection_name='microsoft_annual_report_2022', embedding_function=embedding_function)\n",
    "chroma_collection.count()"
   ]
  },
  {
   "cell_type": "code",
   "execution_count": 3,
   "id": "a338ec83-6301-41a5-9ab1-e5d583306a3f",
   "metadata": {
    "height": 183
   },
   "outputs": [],
   "source": [
    "import os\n",
    "import openai\n",
    "from openai import OpenAI\n",
    "\n",
    "from dotenv import load_dotenv, find_dotenv\n",
    "_ = load_dotenv(find_dotenv()) # read local .env file\n",
    "openai.api_key = os.environ['OPENAI_API_KEY']\n",
    "\n",
    "openai_client = OpenAI()"
   ]
  },
  {
   "cell_type": "code",
   "execution_count": 4,
   "id": "888a86f8-2fe2-4682-bdaf-c15129ed1a32",
   "metadata": {
    "height": 115
   },
   "outputs": [
    {
     "name": "stderr",
     "output_type": "stream",
     "text": [
      "/usr/local/lib/python3.9/site-packages/umap/umap_.py:1943: UserWarning: n_jobs value -1 overridden to 1 by setting random_state. Use no seed for parallelism.\n",
      "  warn(f\"n_jobs value {self.n_jobs} overridden to 1 by setting random_state. Use no seed for parallelism.\")\n",
      "100%|██████████| 349/349 [05:45<00:00,  1.01it/s]\n"
     ]
    }
   ],
   "source": [
    "import umap\n",
    "\n",
    "embeddings = chroma_collection.get(include=['embeddings'])['embeddings']\n",
    "umap_transform = umap.UMAP(random_state=0, transform_seed=0).fit(embeddings)\n",
    "projected_dataset_embeddings = project_embeddings(embeddings, umap_transform)"
   ]
  },
  {
   "cell_type": "markdown",
   "id": "00cafb52-7634-4e42-a334-c4d37259c951",
   "metadata": {},
   "source": [
    "## Expansion with generated answers\n",
    "\n",
    "https://arxiv.org/abs/2305.03653"
   ]
  },
  {
   "cell_type": "code",
   "execution_count": 5,
   "id": "c2a13d14-4484-46f0-8e67-277337f9d138",
   "metadata": {
    "height": 285
   },
   "outputs": [],
   "source": [
    "def augment_query_generated(query, model=\"gpt-3.5-turbo\"):\n",
    "    messages = [\n",
    "        {\n",
    "            \"role\": \"system\",\n",
    "            \"content\": \"You are a helpful expert financial research assistant. Provide an example answer to the given question, that might be found in a document like an annual report. \"\n",
    "        },\n",
    "        {\"role\": \"user\", \"content\": query}\n",
    "    ] \n",
    "\n",
    "    response = openai_client.chat.completions.create(\n",
    "        model=model,\n",
    "        messages=messages,\n",
    "    )\n",
    "    content = response.choices[0].message.content\n",
    "    return content"
   ]
  },
  {
   "cell_type": "code",
   "execution_count": 6,
   "id": "8ba6c8c5-9ce4-44d0-9223-6fdd77871f87",
   "metadata": {
    "height": 115
   },
   "outputs": [
    {
     "name": "stderr",
     "output_type": "stream",
     "text": [
      "huggingface/tokenizers: The current process just got forked, after parallelism has already been used. Disabling parallelism to avoid deadlocks...\n",
      "To disable this warning, you can either:\n",
      "\t- Avoid using `tokenizers` before the fork if possible\n",
      "\t- Explicitly set the environment variable TOKENIZERS_PARALLELISM=(true | false)\n"
     ]
    },
    {
     "name": "stdout",
     "output_type": "stream",
     "text": [
      "Was there significant turnover in the executive team? Answer: During\n",
      "the fiscal year, there was minimal turnover within the executive team.\n",
      "Only one member of the executive team retired and was replaced by an\n",
      "internal candidate. This change was carefully planned and executed to\n",
      "ensure a smooth transition while maintaining continuity in leadership.\n"
     ]
    }
   ],
   "source": [
    "original_query = \"Was there significant turnover in the executive team?\"\n",
    "hypothetical_answer = augment_query_generated(original_query)\n",
    "\n",
    "joint_query = f\"{original_query} {hypothetical_answer}\"\n",
    "print(word_wrap(joint_query))"
   ]
  },
  {
   "cell_type": "code",
   "execution_count": 8,
   "id": "bfdb54db-a442-423c-b006-c33a257cd7d7",
   "metadata": {
    "height": 132
   },
   "outputs": [
    {
     "name": "stdout",
     "output_type": "stream",
     "text": [
      "unresolved with the irs, evaluating management ’ s estimates relating\n",
      "to their determination of uncertain tax positions required extensive\n",
      "audit effort and a high degree of auditor judgment, including\n",
      "involvement of our tax specialists. how the critical audit matter was\n",
      "addressed in the audit our principal audit procedures to evaluate\n",
      "management ’ s estimates of uncertain tax positions related to\n",
      "unresolved transfer pricing issues included the following : • we\n",
      "evaluated the appropriateness and consistency of management ’ s methods\n",
      "and assumptions used in the identification, recognition, measurement,\n",
      "and disclosure of uncertain tax positions, which included testing the\n",
      "effectiveness of the related internal controls. • we read and evaluated\n",
      "management ’ s documentation, including relevant accounting policies\n",
      "and information obtained by management from outside tax specialists,\n",
      "that detailed the basis of the uncertain tax positions.\n",
      "\n",
      "increases for tax positions related to the current year 1, 145 790 647\n",
      "increases for tax positions related to prior years 461 461 366\n",
      "decreases for tax positions related to prior years ( 246 ) ( 297 ) (\n",
      "331 ) decreases due to lapsed statutes of limitations 0 ( 1 ) ( 5 )\n",
      "ending unrecognized tax benefits $ 15, 593 $ 14, 550 $ 13, 792 we\n",
      "settled a portion of the internal revenue service ( “ irs ” ) audit for\n",
      "tax years 2004 to 2006 in fiscal year 2011. in february 2012, the irs\n",
      "withdrew its 2011 revenue agents report related to unresolved issues\n",
      "for tax years 2004 to 2006 and reopened the audit phase of the\n",
      "examination. we also settled a portion of the irs audit for tax years\n",
      "2007 to 2009 in fiscal year 2016, and a portion of the irs audit for\n",
      "tax years 2010 to 2013 in fiscal year 2018. in the second quarter of\n",
      "fiscal year 2021, we settled an additional portion of the irs audits\n",
      "for tax years 2004 to 2013 and made a payment of\n",
      "\n",
      "86 income taxes — uncertain tax positions — refer to note 12 to the\n",
      "financial statements critical audit matter description the company ’ s\n",
      "long - term income taxes liability includes uncertain tax positions\n",
      "related to transfer pricing issues that remain unresolved with the\n",
      "internal revenue service ( “ irs ” ). the company remains under irs\n",
      "audit, or subject to irs audit, for tax years subsequent to 2003. while\n",
      "the company has settled a portion of the irs audits, resolution of the\n",
      "remaining matters could have a material impact on the company ’ s\n",
      "financial statements. conclusions on recognizing and measuring\n",
      "uncertain tax positions involve significant estimates and management\n",
      "judgment and include complex considerations of the internal revenue\n",
      "code, related regulations, tax case laws, and prior - year audit\n",
      "settlements. given the complexity and the subjective nature of the\n",
      "transfer pricing issues that remain\n",
      "\n",
      "37 general and administrative expenses include payroll, employee\n",
      "benefits, stock - based compensation expense, and other headcount -\n",
      "related expenses associated with finance, legal, facilities, certain\n",
      "human resources and other administrative personnel, certain taxes, and\n",
      "legal and other administrative fees. general and administrative\n",
      "expenses increased $ 793 million or 16 % driven by investments in\n",
      "corporate functions. other income ( expense ), net the components of\n",
      "other income ( expense ), net were as follows : ( in millions ) year\n",
      "ended june 30, 2022 2021 interest and dividends income $ 2, 094 $ 2,\n",
      "131 interest expense ( 2, 063 ) ( 2, 346 ) net recognized gains on\n",
      "investments 461 1, 232 net gains ( losses ) on derivatives ( 52 ) 17\n",
      "net gains ( losses ) on foreign currency remeasurements ( 75 ) 54\n",
      "other, net ( 32 ) 98 total $ 333 $ 1, 186\n",
      "\n",
      "the company engaged deloitte & touche llp, an independent registered\n",
      "public accounting firm, to audit and render an opinion on the\n",
      "consolidated financial statements and internal control over financial\n",
      "reporting in accordance with the standards of the public company\n",
      "accounting oversight board ( united states ). the board of directors,\n",
      "through its audit committee, consisting solely of independent directors\n",
      "of the company, meets periodically with management, internal auditors,\n",
      "and our independent registered public accounting firm to ensure that\n",
      "each is meeting its responsibilities and to discuss matters concerning\n",
      "internal controls and financial reporting. deloitte & touche llp and\n",
      "the internal auditors each have full and free access to the audit\n",
      "committee. satya nadella chief executive officer amy e. hood executive\n",
      "vice president and chief financial officer alice l. jolla corporate\n",
      "vice president and chief accounting officer\n",
      "\n"
     ]
    }
   ],
   "source": [
    "results = chroma_collection.query(query_texts=joint_query, n_results=5, include=['documents', 'embeddings'])\n",
    "retrieved_documents = results['documents'][0]\n",
    "\n",
    "for doc in retrieved_documents:\n",
    "    print(word_wrap(doc))\n",
    "    print('')"
   ]
  },
  {
   "cell_type": "code",
   "execution_count": 9,
   "id": "377a84aa-1d93-4e97-9b2d-d59c46355338",
   "metadata": {
    "height": 149
   },
   "outputs": [
    {
     "name": "stderr",
     "output_type": "stream",
     "text": [
      "100%|██████████| 1/1 [00:00<00:00,  1.11it/s]\n",
      "100%|██████████| 1/1 [00:00<00:00,  1.26it/s]\n",
      "100%|██████████| 5/5 [00:04<00:00,  1.04it/s]\n"
     ]
    }
   ],
   "source": [
    "retrieved_embeddings = results['embeddings'][0]\n",
    "original_query_embedding = embedding_function([original_query])\n",
    "augmented_query_embedding = embedding_function([joint_query])\n",
    "\n",
    "projected_original_query_embedding = project_embeddings(original_query_embedding, umap_transform)\n",
    "projected_augmented_query_embedding = project_embeddings(augmented_query_embedding, umap_transform)\n",
    "projected_retrieved_embeddings = project_embeddings(retrieved_embeddings, umap_transform)"
   ]
  },
  {
   "cell_type": "code",
   "execution_count": 10,
   "id": "ba0ed8ca-6640-4c09-9cb3-9de5e7cf46dc",
   "metadata": {
    "height": 234
   },
   "outputs": [
    {
     "name": "stderr",
     "output_type": "stream",
     "text": [
      "huggingface/tokenizers: The current process just got forked, after parallelism has already been used. Disabling parallelism to avoid deadlocks...\n",
      "To disable this warning, you can either:\n",
      "\t- Avoid using `tokenizers` before the fork if possible\n",
      "\t- Explicitly set the environment variable TOKENIZERS_PARALLELISM=(true | false)\n",
      "huggingface/tokenizers: The current process just got forked, after parallelism has already been used. Disabling parallelism to avoid deadlocks...\n",
      "To disable this warning, you can either:\n",
      "\t- Avoid using `tokenizers` before the fork if possible\n",
      "\t- Explicitly set the environment variable TOKENIZERS_PARALLELISM=(true | false)\n"
     ]
    },
    {
     "data": {
      "text/plain": [
       "(-1.3263971537351609, 9.052497419714928, 5.279644966125488, 11.559544563293457)"
      ]
     },
     "execution_count": 10,
     "metadata": {},
     "output_type": "execute_result"
    },
    {
     "data": {
      "image/png": "[encoded data removed]",
      "text/plain": [
       "<Figure size 640x480 with 1 Axes>"
      ]
     },
     "metadata": {},
     "output_type": "display_data"
    }
   ],
   "source": [
    "import matplotlib.pyplot as plt\n",
    "\n",
    "# Plot the projected query and retrieved documents in the embedding space\n",
    "plt.figure()\n",
    "plt.scatter(projected_dataset_embeddings[:, 0], projected_dataset_embeddings[:, 1], s=10, color='gray')\n",
    "plt.scatter(projected_retrieved_embeddings[:, 0], projected_retrieved_embeddings[:, 1], s=100, facecolors='none', edgecolors='g')\n",
    "plt.scatter(projected_original_query_embedding[:, 0], projected_original_query_embedding[:, 1], s=150, marker='X', color='r')\n",
    "plt.scatter(projected_augmented_query_embedding[:, 0], projected_augmented_query_embedding[:, 1], s=150, marker='X', color='orange')\n",
    "\n",
    "plt.gca().set_aspect('equal', 'datalim')\n",
    "plt.title(f'{original_query}')\n",
    "plt.axis('off')"
   ]
  },
  {
   "cell_type": "markdown",
   "id": "24007a5a-4258-4f3d-8d14-d5b01bfa5cd0",
   "metadata": {},
   "source": [
    "## Expansion with multiple queries\n"
   ]
  },
  {
   "cell_type": "code",
   "execution_count": 11,
   "id": "db9f2758-0f5a-49e5-b1fa-517b91324575",
   "metadata": {
    "height": 370
   },
   "outputs": [],
   "source": [
    "def augment_multiple_query(query, model=\"gpt-3.5-turbo\"):\n",
    "    messages = [\n",
    "        {\n",
    "            \"role\": \"system\",\n",
    "            \"content\": \"You are a helpful expert financial research assistant. Your users are asking questions about an annual report. \"\n",
    "            \"Suggest up to five additional related questions to help them find the information they need, for the provided question. \"\n",
    "            \"Suggest only short questions without compound sentences. Suggest a variety of questions that cover different aspects of the topic.\"\n",
    "            \"Make sure they are complete questions, and that they are related to the original question.\"\n",
    "            \"Output one question per line. Do not number the questions.\"\n",
    "        },\n",
    "        {\"role\": \"user\", \"content\": query}\n",
    "    ]\n",
    "\n",
    "    response = openai_client.chat.completions.create(\n",
    "        model=model,\n",
    "        messages=messages,\n",
    "    )\n",
    "    content = response.choices[0].message.content\n",
    "    content = content.split(\"\\n\")\n",
    "    return content"
   ]
  },
  {
   "cell_type": "code",
   "execution_count": 12,
   "id": "aee59493-8a99-4da8-b94f-4747efcfc79d",
   "metadata": {
    "height": 115
   },
   "outputs": [
    {
     "name": "stdout",
     "output_type": "stream",
     "text": [
      "- What were the major cost drivers affecting profitability?\n",
      "- How did changes in pricing strategy impact revenue growth?\n",
      "- Can you provide details on any acquisitions or divestitures that influenced revenue?\n",
      "- What were the top-performing products or services driving revenue growth?\n",
      "- How did changes in market demand affect revenue trends over the year?\n"
     ]
    }
   ],
   "source": [
    "original_query = \"What were the most important factors that contributed to increases in revenue?\"\n",
    "augmented_queries = augment_multiple_query(original_query)\n",
    "\n",
    "for query in augmented_queries:\n",
    "    print(query)"
   ]
  },
  {
   "cell_type": "code",
   "execution_count": 13,
   "id": "f5eda9bc-ae76-4db6-9e0c-ae099d852d78",
   "metadata": {
    "height": 353
   },
   "outputs": [
    {
     "name": "stdout",
     "output_type": "stream",
     "text": [
      "Query: What were the most important factors that contributed to increases in revenue?\n",
      "\n",
      "Results:\n",
      "engineering, gaming, and linkedin. • sales and marketing expenses\n",
      "increased $ 1. 7 billion or 8 % driven by investments in commercial\n",
      "sales and linkedin. sales and marketing included a favorable foreign\n",
      "currency impact of 2 %. • general and administrative expenses increased\n",
      "$ 793 million or 16 % driven by investments in corporate functions.\n",
      "operating income increased $ 13. 5 billion or 19 % driven by growth\n",
      "across each of our segments. current year net income and diluted eps\n",
      "were positively impacted by the net tax benefit related to the transfer\n",
      "of intangible properties, which resulted in an increase to net income\n",
      "and diluted eps of $ 3. 3 billion and $ 0. 44, respectively. prior year\n",
      "net income and diluted eps were positively impacted by the net tax\n",
      "benefit related to the india supreme court decision on withholding\n",
      "taxes, which resulted in an increase to net income and diluted eps of $\n",
      "620 million and $ 0. 08, respectively.\n",
      "\n",
      "independent recalculation of prices where appropriate. cash flows cash\n",
      "from operations increased $ 12. 3 billion to $ 89. 0 billion for fiscal\n",
      "year 2022, mainly due to an increase in cash received from customers,\n",
      "offset in part by an increase in cash paid to suppliers and employees.\n",
      "cash used in financing increased $ 10. 4 billion to $ 58. 9 billion for\n",
      "fiscal year 2022, mainly due to a $ 5. 3 billion increase in common\n",
      "stock repurchases and a $ 5. 3 billion increase in repayments of debt.\n",
      "cash used in investing increased $ 2. 7 billion to $ 30. 3 billion for\n",
      "fiscal year 2022, mainly due to a $ 13. 1 billion increase in cash used\n",
      "for acquisitions of companies, net of cash acquired, and purchases of\n",
      "intangible and other assets, and a $ 3. 3 billion increase in additions\n",
      "to property and equipment, offset in part by a $ 15. 6 billion increase\n",
      "in cash from net investment purchases, sales, and maturities.\n",
      "\n",
      "37 general and administrative expenses include payroll, employee\n",
      "benefits, stock - based compensation expense, and other headcount -\n",
      "related expenses associated with finance, legal, facilities, certain\n",
      "human resources and other administrative personnel, certain taxes, and\n",
      "legal and other administrative fees. general and administrative\n",
      "expenses increased $ 793 million or 16 % driven by investments in\n",
      "corporate functions. other income ( expense ), net the components of\n",
      "other income ( expense ), net were as follows : ( in millions ) year\n",
      "ended june 30, 2022 2021 interest and dividends income $ 2, 094 $ 2,\n",
      "131 interest expense ( 2, 063 ) ( 2, 346 ) net recognized gains on\n",
      "investments 461 1, 232 net gains ( losses ) on derivatives ( 52 ) 17\n",
      "net gains ( losses ) on foreign currency remeasurements ( 75 ) 54\n",
      "other, net ( 32 ) 98 total $ 333 $ 1, 186\n",
      "\n",
      "product revenue includes sales from operating systems, cross - device\n",
      "productivity applications, server applications, business solution\n",
      "applications, desktop and server management tools, software development\n",
      "tools, video games, and hardware such as pcs, tablets, gaming and\n",
      "entertainment consoles, other intelligent devices, and related\n",
      "accessories.\n",
      "\n",
      "• windows revenue increased $ 2. 3 billion or 10 % driven by growth in\n",
      "windows oem and windows commercial. windows oem revenue increased 11 %\n",
      "driven by continued strength in the commercial pc market, which has\n",
      "higher revenue per license. windows commercial products and cloud\n",
      "services revenue increased 11 % driven by demand for microsoft 365.\n",
      "\n",
      "----------------------------------------------------------------------------------------------------\n",
      "Query: - What were the major cost drivers affecting profitability?\n",
      "\n",
      "Results:\n",
      "investments are determined based on valuation techniques using the best\n",
      "information available, and may include quoted market prices, market\n",
      "comparables, and discounted cash flow projections. inventories\n",
      "inventories are stated at average cost, subject to the lower of cost or\n",
      "net realizable value. cost includes materials, labor, and manufacturing\n",
      "overhead related to the purchase and production of inventories. net\n",
      "realizable value is the estimated selling price less estimated costs of\n",
      "completion, disposal, and transportation. we regularly review inventory\n",
      "quantities on hand, future purchase commitments with our suppliers, and\n",
      "the estimated utility of our inventory. if our review indicates a\n",
      "reduction in utility below carrying value, we reduce our inventory to a\n",
      "new cost basis through a charge to cost of revenue. property and\n",
      "equipment property and equipment is stated at cost less accumulated\n",
      "depreciation, and depreciated using the straight - line method\n",
      "\n",
      "• operating expenses increased $ 1. 5 billion or 14 % driven by\n",
      "investments in gaming, search and news advertising, and windows\n",
      "marketing. operating expenses research and development ( in millions,\n",
      "except percentages ) 2022 2021 percentage change research and\n",
      "development $ 24, 512 $ 20, 716 18 % as a percent of revenue 12 % 12 %\n",
      "0ppt research and development expenses include payroll, employee\n",
      "benefits, stock - based compensation expense, and other headcount -\n",
      "related expenses associated with product development. research and\n",
      "development expenses also include third - party development and\n",
      "programming costs, localization costs incurred to translate software\n",
      "for international markets, and the amortization of purchased software\n",
      "code and services content. research and development expenses increased\n",
      "$ 3. 8 billion or 18 % driven by investments in cloud engineering,\n",
      "gaming, and linkedin. sales and marketing\n",
      "\n",
      "82 in addition, certain costs incurred at a corporate level that are\n",
      "identifiable and that benefit our segments are allocated to them. these\n",
      "allocated costs include legal, including settlements and fines,\n",
      "information technology, human resources, finance, excise taxes, field\n",
      "selling, shared facilities services, and customer service and support.\n",
      "each allocation is measured differently based on the specific facts and\n",
      "circumstances of the costs being allocated. segment revenue and\n",
      "operating income were as follows during the periods presented : ( in\n",
      "millions ) year ended june 30, 2022 2021 2020 revenue productivity and\n",
      "business processes $ 63, 364 $ 53, 915 $ 46, 398 intelligent cloud 75,\n",
      "251 60, 080 48, 366 more personal computing 59, 655 54, 093 48, 251\n",
      "total $ 198, 270 $ 168, 088 $ 143, 015 operating income\n",
      "\n",
      "and liabilities, accounting for interest and penalties associated with\n",
      "tax positions, and income tax disclosures. judgment is required in\n",
      "assessing the future tax consequences of events that have been\n",
      "recognized in our consolidated financial statements or tax returns.\n",
      "variations in the actual outcome of these future tax consequences could\n",
      "materially impact our consolidated financial statements. inventories\n",
      "inventories are stated at average cost, subject to the lower of cost or\n",
      "net realizable value. cost includes materials, labor, and manufacturing\n",
      "overhead related to the purchase and production of inventories. net\n",
      "realizable value is the estimated selling price less estimated costs of\n",
      "completion, disposal, and transportation. we regularly review inventory\n",
      "quantities on hand, future purchase commitments with our suppliers, and\n",
      "the estimated utility of our inventory. these reviews include\n",
      "\n",
      "recognition, determining the nature and timing of satisfaction of\n",
      "performance obligations, and determining the standalone selling price (\n",
      "“ ssp ” ) of performance obligations, variable consideration, and other\n",
      "obligations such as product returns and refunds ; loss contingencies ;\n",
      "product warranties ; the fair value of and / or potential impairment of\n",
      "goodwill and intangible assets for our reporting units ; product life\n",
      "cycles ; useful lives of our tangible and intangible assets ;\n",
      "allowances for doubt ful accounts ; the market value of, and demand\n",
      "for, our inventory ; stock - based compensation forfeiture rates ; when\n",
      "technological feasibility is achieved for our products ; the potential\n",
      "outcome of uncertain tax positions that have been recognized in our\n",
      "consolidated financial statements or tax returns ; and determining the\n",
      "timing and amount of impairments for investments. actual results and\n",
      "outcomes may differ from management ’ s estimates and assumptions due\n",
      "to risks and uncertainties.\n",
      "\n",
      "----------------------------------------------------------------------------------------------------\n",
      "Query: - How did changes in pricing strategy impact revenue growth?\n",
      "\n",
      "Results:\n",
      "( in millions, except percentages ) 2022 2021 percentage change sales\n",
      "and marketing $ 21, 825 $ 20, 117 8 % as a percent of revenue 11 % 12 %\n",
      "( 1 ) ppt sales and marketing expenses include payroll, employee\n",
      "benefits, stock - based compensation expense, and other headcount -\n",
      "related expenses associated with sales and marketing personnel, and the\n",
      "costs of advertising, promotions, trade shows, seminars, and other\n",
      "programs. sales and marketing expenses increased $ 1. 7 billion or 8 %\n",
      "driven by investments in commercial sales and linkedin. sales and\n",
      "marketing included a favorable foreign currency impact of 2 %. general\n",
      "and administrative ( in millions, except percentages ) 2022 2021\n",
      "percentage change general and administrative $ 5, 900 $ 5, 107 16 % as\n",
      "a percent of revenue 3 % 3 % 0ppt\n",
      "\n",
      "36 • search and news advertising revenue increased $ 2. 3 billion or 25\n",
      "%. search and news advertising revenue excluding traffic acquisition\n",
      "costs increased 27 % driven by higher revenue per search and search\n",
      "volume. • gaming revenue increased $ 860 million or 6 % on a strong\n",
      "prior year comparable that benefited from xbox series x | s launches\n",
      "and stay - at - home scenarios, driven by growth in xbox hardware and\n",
      "xbox content and services. xbox hardware revenue increased 16 % due to\n",
      "continued demand for xbox series x | s. xbox content and services\n",
      "revenue increased 3 % driven by growth in xbox game pass subscriptions\n",
      "and first - party content, offset in part by a decline in third - party\n",
      "content. • surface revenue increased $ 226 million or 3 %. operating\n",
      "income increased $ 1. 5 billion or 8 %. • gross margin increased $ 3. 1\n",
      "billion or 10 % driven by growth in windows and search and news\n",
      "advertising. gross margin percentage was relatively unchanged.\n",
      "\n",
      "34 net income tax benefit related to an india supreme court decision on\n",
      "withholding taxes in the third quarter of fiscal year 2021. refer to\n",
      "the non - gaap financial measures section below for a reconciliation of\n",
      "our financial results reported in accordance with gaap to non - gaap\n",
      "financial results. see note 12 – income taxes of the notes to financial\n",
      "statements in our fiscal year 2022 form 10 - k for further discussion.\n",
      "fiscal year 2022 compared with fiscal year 2021 revenue increased $ 30.\n",
      "2 billion or 18 % driven by growth across each of our segments.\n",
      "intelligent cloud revenue increased driven by azure and other cloud\n",
      "services. productivity and business processes revenue increased driven\n",
      "by office 365 commercial and linkedin. more personal computing revenue\n",
      "increased driven by search and news advertising and windows. cost of\n",
      "revenue increased $ 10. 4 billion or 20 % driven by growth in microsoft\n",
      "cloud.\n",
      "\n",
      "• windows revenue increased $ 2. 3 billion or 10 % driven by growth in\n",
      "windows oem and windows commercial. windows oem revenue increased 11 %\n",
      "driven by continued strength in the commercial pc market, which has\n",
      "higher revenue per license. windows commercial products and cloud\n",
      "services revenue increased 11 % driven by demand for microsoft 365.\n",
      "\n",
      "35 reportable segments fiscal year 2022 compared with fiscal year 2021\n",
      "productivity and business processes revenue increased $ 9. 4 billion or\n",
      "18 %. • office commercial products and cloud services revenue increased\n",
      "$ 4. 4 billion or 13 %. office 365 commercial revenue grew 18 % driven\n",
      "by seat growth of 14 %, with continued momentum in small and medium\n",
      "business and frontline worker offerings, as well as growth in revenue\n",
      "per user. office commercial products revenue declined 22 % driven by\n",
      "continued customer shift to cloud offerings. • office consumer products\n",
      "and cloud services revenue increased $ 641 million or 11 % driven by\n",
      "microsoft 365 consumer subscription revenue. microsoft 365 consumer\n",
      "subscribers grew 15 % to 59. 7 million. • linkedin revenue increased $\n",
      "3. 5 billion or 34 % driven by a strong job market in our talent\n",
      "solutions business and advertising demand in our marketing solutions\n",
      "business.\n",
      "\n",
      "----------------------------------------------------------------------------------------------------\n",
      "Query: - Can you provide details on any acquisitions or divestitures that influenced revenue?\n",
      "\n",
      "Results:\n",
      "37 general and administrative expenses include payroll, employee\n",
      "benefits, stock - based compensation expense, and other headcount -\n",
      "related expenses associated with finance, legal, facilities, certain\n",
      "human resources and other administrative personnel, certain taxes, and\n",
      "legal and other administrative fees. general and administrative\n",
      "expenses increased $ 793 million or 16 % driven by investments in\n",
      "corporate functions. other income ( expense ), net the components of\n",
      "other income ( expense ), net were as follows : ( in millions ) year\n",
      "ended june 30, 2022 2021 interest and dividends income $ 2, 094 $ 2,\n",
      "131 interest expense ( 2, 063 ) ( 2, 346 ) net recognized gains on\n",
      "investments 461 1, 232 net gains ( losses ) on derivatives ( 52 ) 17\n",
      "net gains ( losses ) on foreign currency remeasurements ( 75 ) 54\n",
      "other, net ( 32 ) 98 total $ 333 $ 1, 186\n",
      "\n",
      "recognition, determining the nature and timing of satisfaction of\n",
      "performance obligations, and determining the standalone selling price (\n",
      "“ ssp ” ) of performance obligations, variable consideration, and other\n",
      "obligations such as product returns and refunds ; loss contingencies ;\n",
      "product warranties ; the fair value of and / or potential impairment of\n",
      "goodwill and intangible assets for our reporting units ; product life\n",
      "cycles ; useful lives of our tangible and intangible assets ;\n",
      "allowances for doubt ful accounts ; the market value of, and demand\n",
      "for, our inventory ; stock - based compensation forfeiture rates ; when\n",
      "technological feasibility is achieved for our products ; the potential\n",
      "outcome of uncertain tax positions that have been recognized in our\n",
      "consolidated financial statements or tax returns ; and determining the\n",
      "timing and amount of impairments for investments. actual results and\n",
      "outcomes may differ from management ’ s estimates and assumptions due\n",
      "to risks and uncertainties.\n",
      "\n",
      "50 cash flows statements ( in millions ) year ended june 30, 2022 2021\n",
      "2020 operations net income $ 72, 738 $ 61, 271 $ 44, 281 adjustments to\n",
      "reconcile net income to net cash from operations : depreciation,\n",
      "amortization, and other 14, 460 11, 686 12, 796 stock - based\n",
      "compensation expense 7, 502 6, 118 5, 289 net recognized gains on\n",
      "investments and derivatives ( 409 ) ( 1, 249 ) ( 219 ) deferred income\n",
      "taxes ( 5, 702 ) ( 150 ) 11 changes in operating assets and liabilities\n",
      ": accounts receivable ( 6, 834 ) ( 6, 481 ) ( 2, 577 ) inventories ( 1,\n",
      "123 ) ( 737 ) 168 other current assets ( 709 ) ( 932 ) ( 2, 330 ) other\n",
      "long - term assets ( 2, 805 ) ( 3, 459 ) ( 1, 037 ) accounts payable 2,\n",
      "943 2, 798 3, 018 unearned revenue 5, 109 4, 633 2, 212 income taxes\n",
      "696 ( 2, 309 ) ( 3, 631 ) other current liabilities 2, 344 4, 149 1,\n",
      "346\n",
      "\n",
      "engineering, gaming, and linkedin. • sales and marketing expenses\n",
      "increased $ 1. 7 billion or 8 % driven by investments in commercial\n",
      "sales and linkedin. sales and marketing included a favorable foreign\n",
      "currency impact of 2 %. • general and administrative expenses increased\n",
      "$ 793 million or 16 % driven by investments in corporate functions.\n",
      "operating income increased $ 13. 5 billion or 19 % driven by growth\n",
      "across each of our segments. current year net income and diluted eps\n",
      "were positively impacted by the net tax benefit related to the transfer\n",
      "of intangible properties, which resulted in an increase to net income\n",
      "and diluted eps of $ 3. 3 billion and $ 0. 44, respectively. prior year\n",
      "net income and diluted eps were positively impacted by the net tax\n",
      "benefit related to the india supreme court decision on withholding\n",
      "taxes, which resulted in an increase to net income and diluted eps of $\n",
      "620 million and $ 0. 08, respectively.\n",
      "\n",
      "occurs shortly before the products are released to production. the\n",
      "amortization of these costs is included in cost of revenue over the\n",
      "estimated life of the products. legal and other contingencies the\n",
      "outcomes of legal proceedings and claims brought against us are subject\n",
      "to significant uncertainty. an estimated loss from a loss contingency\n",
      "such as a legal proceeding or claim is accrued by a charge to income if\n",
      "it is probable that an asset has been impaired or a liability has been\n",
      "incurred and the amount of the loss can be reasonably estimated. in\n",
      "determining whether a loss should be accrued we evaluate, among other\n",
      "factors, the degree of probability of an unfavorable outcome and the\n",
      "ability to make a reasonable estimate of the amount of loss. changes in\n",
      "these factors could materially impact our consolidated financial\n",
      "statements.\n",
      "\n",
      "----------------------------------------------------------------------------------------------------\n",
      "Query: - What were the top-performing products or services driving revenue growth?\n",
      "\n",
      "Results:\n",
      "35 reportable segments fiscal year 2022 compared with fiscal year 2021\n",
      "productivity and business processes revenue increased $ 9. 4 billion or\n",
      "18 %. • office commercial products and cloud services revenue increased\n",
      "$ 4. 4 billion or 13 %. office 365 commercial revenue grew 18 % driven\n",
      "by seat growth of 14 %, with continued momentum in small and medium\n",
      "business and frontline worker offerings, as well as growth in revenue\n",
      "per user. office commercial products revenue declined 22 % driven by\n",
      "continued customer shift to cloud offerings. • office consumer products\n",
      "and cloud services revenue increased $ 641 million or 11 % driven by\n",
      "microsoft 365 consumer subscription revenue. microsoft 365 consumer\n",
      "subscribers grew 15 % to 59. 7 million. • linkedin revenue increased $\n",
      "3. 5 billion or 34 % driven by a strong job market in our talent\n",
      "solutions business and advertising demand in our marketing solutions\n",
      "business.\n",
      "\n",
      "revenue, classified by significant product and service offerings, was\n",
      "as follows : ( in millions ) year ended june 30, 2022 2021 2020 server\n",
      "products and cloud services $ 67, 321 $ 52, 589 $ 41, 379 office\n",
      "products and cloud services 44, 862 39, 872 35, 316 windows 24, 761 22,\n",
      "488 21, 510 gaming 16, 230 15, 370 11, 575 linkedin 13, 816 10, 289 8,\n",
      "077 search and news advertising 11, 591 9, 267 8, 524 enterprise\n",
      "services 7, 407 6, 943 6, 409 devices 6, 991 6, 791 6, 457 other 5, 291\n",
      "4, 479 3, 768 total $ 198, 270 $ 168, 088 $ 143, 015 we have recast\n",
      "certain previously reported amounts in the table above to conform to\n",
      "the way we internally manage and monitor our business.\n",
      "\n",
      "highlights from fiscal year 2022 compared with fiscal year 2021\n",
      "included : • microsoft cloud ( formerly commercial cloud ) revenue\n",
      "increased 32 % to $ 91. 2 billion. • office commercial products and\n",
      "cloud services revenue increased 13 % driven by office 365 commercial\n",
      "growth of 18 %. • office consumer products and cloud services revenue\n",
      "increased 11 % and microsoft 365 consumer subscribers grew to 59. 7\n",
      "million. • linkedin revenue increased 34 %. • dynamics products and\n",
      "cloud services revenue increased 25 % driven by dynamics 365 growth of\n",
      "39 %. • server products and cloud services revenue increased 28 %\n",
      "driven by azure and other cloud services growth of 45 %. • windows\n",
      "original equipment manufacturer licensing ( “ windows oem ” ) revenue\n",
      "increased 11 %. • windows commercial products and cloud services\n",
      "revenue increased 11 %. • xbox content and services revenue increased 3\n",
      "%. • search and news advertising revenue excluding traffic acquisition\n",
      "costs increased 27 %.\n",
      "\n",
      "product revenue includes sales from operating systems, cross - device\n",
      "productivity applications, server applications, business solution\n",
      "applications, desktop and server management tools, software development\n",
      "tools, video games, and hardware such as pcs, tablets, gaming and\n",
      "entertainment consoles, other intelligent devices, and related\n",
      "accessories.\n",
      "\n",
      "36 • search and news advertising revenue increased $ 2. 3 billion or 25\n",
      "%. search and news advertising revenue excluding traffic acquisition\n",
      "costs increased 27 % driven by higher revenue per search and search\n",
      "volume. • gaming revenue increased $ 860 million or 6 % on a strong\n",
      "prior year comparable that benefited from xbox series x | s launches\n",
      "and stay - at - home scenarios, driven by growth in xbox hardware and\n",
      "xbox content and services. xbox hardware revenue increased 16 % due to\n",
      "continued demand for xbox series x | s. xbox content and services\n",
      "revenue increased 3 % driven by growth in xbox game pass subscriptions\n",
      "and first - party content, offset in part by a decline in third - party\n",
      "content. • surface revenue increased $ 226 million or 3 %. operating\n",
      "income increased $ 1. 5 billion or 8 %. • gross margin increased $ 3. 1\n",
      "billion or 10 % driven by growth in windows and search and news\n",
      "advertising. gross margin percentage was relatively unchanged.\n",
      "\n",
      "----------------------------------------------------------------------------------------------------\n",
      "Query: - How did changes in market demand affect revenue trends over the year?\n",
      "\n",
      "Results:\n",
      "35 reportable segments fiscal year 2022 compared with fiscal year 2021\n",
      "productivity and business processes revenue increased $ 9. 4 billion or\n",
      "18 %. • office commercial products and cloud services revenue increased\n",
      "$ 4. 4 billion or 13 %. office 365 commercial revenue grew 18 % driven\n",
      "by seat growth of 14 %, with continued momentum in small and medium\n",
      "business and frontline worker offerings, as well as growth in revenue\n",
      "per user. office commercial products revenue declined 22 % driven by\n",
      "continued customer shift to cloud offerings. • office consumer products\n",
      "and cloud services revenue increased $ 641 million or 11 % driven by\n",
      "microsoft 365 consumer subscription revenue. microsoft 365 consumer\n",
      "subscribers grew 15 % to 59. 7 million. • linkedin revenue increased $\n",
      "3. 5 billion or 34 % driven by a strong job market in our talent\n",
      "solutions business and advertising demand in our marketing solutions\n",
      "business.\n",
      "\n",
      "( in millions, except percentages ) 2022 2021 percentage change sales\n",
      "and marketing $ 21, 825 $ 20, 117 8 % as a percent of revenue 11 % 12 %\n",
      "( 1 ) ppt sales and marketing expenses include payroll, employee\n",
      "benefits, stock - based compensation expense, and other headcount -\n",
      "related expenses associated with sales and marketing personnel, and the\n",
      "costs of advertising, promotions, trade shows, seminars, and other\n",
      "programs. sales and marketing expenses increased $ 1. 7 billion or 8 %\n",
      "driven by investments in commercial sales and linkedin. sales and\n",
      "marketing included a favorable foreign currency impact of 2 %. general\n",
      "and administrative ( in millions, except percentages ) 2022 2021\n",
      "percentage change general and administrative $ 5, 900 $ 5, 107 16 % as\n",
      "a percent of revenue 3 % 3 % 0ppt\n",
      "\n",
      "74 note 13 — unearned revenue unearned revenue by segment was as\n",
      "follows : ( in millions ) june 30, 2022 2021 productivity and business\n",
      "processes $ 24, 558 $ 22, 120 intelligent cloud 19, 371 17, 710 more\n",
      "personal computing 4, 479 4, 311 total $ 48, 408 $ 44, 141 changes in\n",
      "unearned revenue were as follows : ( in millions ) year ended june 30,\n",
      "2022 balance, beginning of period $ 44, 141 deferral of revenue 110,\n",
      "455 recognition of unearned revenue ( 106, 188 ) balance, end of period\n",
      "$ 48, 408 revenue allocated to remaining performance obligations, which\n",
      "includes unearned revenue and amounts that will be invoiced and\n",
      "recognized as revenue in future periods, was $ 193 billion as of june\n",
      "30, 2022, of which $ 189 billion is related to the commercial portion\n",
      "of revenue. we expect to recognize approximately 45 % of this revenue\n",
      "over the next 12\n",
      "\n",
      "change will increase our fiscal year 2023 operating income by $ 3. 7\n",
      "billion. we had previously increased the estimated useful lives of both\n",
      "server and network equipment in july 2020.\n",
      "\n",
      "82 in addition, certain costs incurred at a corporate level that are\n",
      "identifiable and that benefit our segments are allocated to them. these\n",
      "allocated costs include legal, including settlements and fines,\n",
      "information technology, human resources, finance, excise taxes, field\n",
      "selling, shared facilities services, and customer service and support.\n",
      "each allocation is measured differently based on the specific facts and\n",
      "circumstances of the costs being allocated. segment revenue and\n",
      "operating income were as follows during the periods presented : ( in\n",
      "millions ) year ended june 30, 2022 2021 2020 revenue productivity and\n",
      "business processes $ 63, 364 $ 53, 915 $ 46, 398 intelligent cloud 75,\n",
      "251 60, 080 48, 366 more personal computing 59, 655 54, 093 48, 251\n",
      "total $ 198, 270 $ 168, 088 $ 143, 015 operating income\n",
      "\n",
      "----------------------------------------------------------------------------------------------------\n"
     ]
    }
   ],
   "source": [
    "queries = [original_query] + augmented_queries\n",
    "results = chroma_collection.query(query_texts=queries, n_results=5, include=['documents', 'embeddings'])\n",
    "\n",
    "retrieved_documents = results['documents']\n",
    "\n",
    "# Deduplicate the retrieved documents\n",
    "unique_documents = set()\n",
    "for documents in retrieved_documents:\n",
    "    for document in documents:\n",
    "        unique_documents.add(document)\n",
    "\n",
    "for i, documents in enumerate(retrieved_documents):\n",
    "    print(f\"Query: {queries[i]}\")\n",
    "    print('')\n",
    "    print(\"Results:\")\n",
    "    for doc in documents:\n",
    "        print(word_wrap(doc))\n",
    "        print('')\n",
    "    print('-'*100)"
   ]
  },
  {
   "cell_type": "code",
   "execution_count": 14,
   "id": "b1183e75-4c65-422e-bc47-48010d8b29c9",
   "metadata": {
    "height": 132
   },
   "outputs": [
    {
     "name": "stderr",
     "output_type": "stream",
     "text": [
      "100%|██████████| 1/1 [00:01<00:00,  1.78s/it]\n",
      "100%|██████████| 5/5 [00:07<00:00,  1.46s/it]\n"
     ]
    }
   ],
   "source": [
    "original_query_embedding = embedding_function([original_query])\n",
    "augmented_query_embeddings = embedding_function(augmented_queries)\n",
    "\n",
    "project_original_query = project_embeddings(original_query_embedding, umap_transform)\n",
    "project_augmented_queries = project_embeddings(augmented_query_embeddings, umap_transform)\n"
   ]
  },
  {
   "cell_type": "code",
   "execution_count": 15,
   "id": "5fcd85cc-8898-41ed-a0aa-bd8a33fc565a",
   "metadata": {
    "height": 98
   },
   "outputs": [
    {
     "name": "stderr",
     "output_type": "stream",
     "text": [
      "100%|██████████| 30/30 [00:27<00:00,  1.10it/s]\n"
     ]
    }
   ],
   "source": [
    "result_embeddings = results['embeddings']\n",
    "result_embeddings = [item for sublist in result_embeddings for item in sublist]\n",
    "projected_result_embeddings = project_embeddings(result_embeddings, umap_transform)\n"
   ]
  },
  {
   "cell_type": "code",
   "execution_count": 16,
   "id": "c65337e9-85ee-47f7-89fd-7fe77cd0e1b2",
   "metadata": {
    "height": 217
   },
   "outputs": [
    {
     "data": {
      "text/plain": [
       "(-1.3263971537351609, 9.052497419714928, 5.279644966125488, 11.559544563293457)"
      ]
     },
     "execution_count": 16,
     "metadata": {},
     "output_type": "execute_result"
    },
    {
     "data": {
      "image/png": "[encoded data removed]",
      "text/plain": [
       "<Figure size 640x480 with 1 Axes>"
      ]
     },
     "metadata": {},
     "output_type": "display_data"
    }
   ],
   "source": [
    "import matplotlib.pyplot as plt\n",
    "\n",
    "plt.figure()\n",
    "plt.scatter(projected_dataset_embeddings[:, 0], projected_dataset_embeddings[:, 1], s=10, color='gray')\n",
    "plt.scatter(project_augmented_queries[:, 0], project_augmented_queries[:, 1], s=150, marker='X', color='orange')\n",
    "plt.scatter(projected_result_embeddings[:, 0], projected_result_embeddings[:, 1], s=100, facecolors='none', edgecolors='g')\n",
    "plt.scatter(project_original_query[:, 0], project_original_query[:, 1], s=150, marker='X', color='r')\n",
    "\n",
    "plt.gca().set_aspect('equal', 'datalim')\n",
    "plt.title(f'{original_query}')\n",
    "plt.axis('off')"
   ]
  },
  {
   "cell_type": "code",
   "execution_count": null,
   "id": "a7794092-4195-4cf3-9eab-11c9c05a26b9",
   "metadata": {
    "height": 31
   },
   "outputs": [],
   "source": []
  },
  {
   "cell_type": "code",
   "execution_count": null,
   "id": "f2cab7a1-1be7-45f0-83b7-543e48f83901",
   "metadata": {
    "height": 31
   },
   "outputs": [],
   "source": []
  },
  {
   "cell_type": "code",
   "execution_count": null,
   "id": "fe0343be-73c9-4aed-83b0-aba09569ac87",
   "metadata": {
    "height": 31
   },
   "outputs": [],
   "source": []
  },
  {
   "cell_type": "code",
   "execution_count": null,
   "id": "6f0f3e33-e517-4f6b-8b38-c47c1e3d40b4",
   "metadata": {
    "height": 31
   },
   "outputs": [],
   "source": []
  },
  {
   "cell_type": "code",
   "execution_count": null,
   "id": "a16fdcb1-57d0-4f04-af8f-7c7fc594d947",
   "metadata": {
    "height": 31
   },
   "outputs": [],
   "source": []
  },
  {
   "cell_type": "code",
   "execution_count": null,
   "id": "babe7893-9cbc-43c5-94ef-cbf8f5d68cf2",
   "metadata": {
    "height": 31
   },
   "outputs": [],
   "source": []
  },
  {
   "cell_type": "code",
   "execution_count": null,
   "id": "60a9524b-1085-4bdf-a161-39f11397dc1f",
   "metadata": {
    "height": 31
   },
   "outputs": [],
   "source": []
  },
  {
   "cell_type": "code",
   "execution_count": null,
   "id": "d189f088-b58e-4583-9590-afdfa624cf87",
   "metadata": {
    "height": 31
   },
   "outputs": [],
   "source": []
  },
  {
   "cell_type": "code",
   "execution_count": null,
   "id": "7b26a01a-4575-446b-b8dc-a8c5ab153172",
   "metadata": {
    "height": 31
   },
   "outputs": [],
   "source": []
  },
  {
   "cell_type": "code",
   "execution_count": null,
   "id": "0950575b-b69d-46a3-8c91-c7af89f5c204",
   "metadata": {
    "height": 31
   },
   "outputs": [],
   "source": []
  },
  {
   "cell_type": "code",
   "execution_count": null,
   "id": "3f123ad8-b2e8-4a25-8b42-a520ecaf566b",
   "metadata": {
    "height": 31
   },
   "outputs": [],
   "source": []
  },
  {
   "cell_type": "code",
   "execution_count": null,
   "id": "83c04587-d1de-419c-a213-2e3eb67dc33d",
   "metadata": {
    "height": 31
   },
   "outputs": [],
   "source": []
  },
  {
   "cell_type": "code",
   "execution_count": null,
   "id": "d3155972-824e-4ebe-a692-2227c113c5a8",
   "metadata": {
    "height": 31
   },
   "outputs": [],
   "source": []
  },
  {
   "cell_type": "code",
   "execution_count": null,
   "id": "d8144a4a-85f6-4800-87f9-36a1b6ceda1f",
   "metadata": {
    "height": 31
   },
   "outputs": [],
   "source": []
  },
  {
   "cell_type": "code",
   "execution_count": null,
   "id": "8ff0b18e-12a0-4ac0-97dd-8618b22e7dbf",
   "metadata": {
    "height": 31
   },
   "outputs": [],
   "source": []
  },
  {
   "cell_type": "code",
   "execution_count": null,
   "id": "03ca7e7c-4b47-4652-9b46-a40b3dffa5e6",
   "metadata": {
    "height": 31
   },
   "outputs": [],
   "source": []
  },
  {
   "cell_type": "code",
   "execution_count": null,
   "id": "f74e7d67-7f51-41c4-8e25-edbaa02d0bd8",
   "metadata": {
    "height": 31
   },
   "outputs": [],
   "source": []
  },
  {
   "cell_type": "code",
   "execution_count": null,
   "id": "9188e886-d406-406f-b234-f5c3353a77a2",
   "metadata": {
    "height": 31
   },
   "outputs": [],
   "source": []
  },
  {
   "cell_type": "code",
   "execution_count": null,
   "id": "3d3bb286-2694-4ed4-8466-46865e997ced",
   "metadata": {
    "height": 31
   },
   "outputs": [],
   "source": []
  },
  {
   "cell_type": "code",
   "execution_count": null,
   "id": "2876084b-4038-4b0c-8ec8-8294a86adfc1",
   "metadata": {
    "height": 31
   },
   "outputs": [],
   "source": []
  },
  {
   "cell_type": "code",
   "execution_count": null,
   "id": "3ac542e1-b094-431f-9611-cf7e36d3f0de",
   "metadata": {
    "height": 31
   },
   "outputs": [],
   "source": []
  },
  {
   "cell_type": "code",
   "execution_count": null,
   "id": "bcd6114b-c09d-4173-a623-9a08aaf63e4b",
   "metadata": {
    "height": 31
   },
   "outputs": [],
   "source": []
  },
  {
   "cell_type": "code",
   "execution_count": null,
   "id": "ad10ab65-b351-4f4b-b7d2-63474acfb9f9",
   "metadata": {
    "height": 31
   },
   "outputs": [],
   "source": []
  },
  {
   "cell_type": "code",
   "execution_count": null,
   "id": "800f3d81-cbdb-4ba4-8d49-85747fdfded8",
   "metadata": {
    "height": 31
   },
   "outputs": [],
   "source": []
  },
  {
   "cell_type": "code",
   "execution_count": null,
   "id": "37847448-c9f6-4f51-bf06-f7809964a8b2",
   "metadata": {
    "height": 31
   },
   "outputs": [],
   "source": []
  },
  {
   "cell_type": "code",
   "execution_count": null,
   "id": "2dcefc87-0964-4b94-946b-2145781ad606",
   "metadata": {
    "height": 31
   },
   "outputs": [],
   "source": []
  },
  {
   "cell_type": "code",
   "execution_count": null,
   "id": "5fc994bc-7b1e-476a-9df9-300a3e374882",
   "metadata": {
    "height": 31
   },
   "outputs": [],
   "source": []
  },
  {
   "cell_type": "code",
   "execution_count": null,
   "id": "9ef5f5d5-acb7-4b0a-93ef-e61306708e69",
   "metadata": {
    "height": 31
   },
   "outputs": [],
   "source": []
  },
  {
   "cell_type": "code",
   "execution_count": null,
   "id": "44e4b33f-d8fb-4f3a-b884-8b43a3766583",
   "metadata": {
    "height": 31
   },
   "outputs": [],
   "source": []
  },
  {
   "cell_type": "code",
   "execution_count": null,
   "id": "c2a480a2-2c29-4a01-80dd-ee41934b7901",
   "metadata": {
    "height": 31
   },
   "outputs": [],
   "source": []
  },
  {
   "cell_type": "code",
   "execution_count": null,
   "id": "8127c2bf-0d15-4b62-b46a-f7a17ad2ec92",
   "metadata": {
    "height": 31
   },
   "outputs": [],
   "source": []
  },
  {
   "cell_type": "code",
   "execution_count": null,
   "id": "18ded129-a637-4269-a116-550fe9a90570",
   "metadata": {
    "height": 31
   },
   "outputs": [],
   "source": []
  },
  {
   "cell_type": "code",
   "execution_count": null,
   "id": "c1d7ee44-7b29-483f-a3f2-cc9d8e18880e",
   "metadata": {
    "height": 31
   },
   "outputs": [],
   "source": []
  },
  {
   "cell_type": "code",
   "execution_count": null,
   "id": "8e450dd8-9719-42c6-8c3c-33cac910e0a5",
   "metadata": {
    "height": 31
   },
   "outputs": [],
   "source": []
  }
 ],
 "metadata": {
  "kernelspec": {
   "display_name": "Python 3 (ipykernel)",
   "language": "python",
   "name": "python3"
  },
  "language_info": {
   "codemirror_mode": {
    "name": "ipython",
    "version": 3
   },
   "file_extension": ".py",
   "mimetype": "text/x-python",
   "name": "python",
   "nbconvert_exporter": "python",
   "pygments_lexer": "ipython3",
   "version": "3.9.18"
  }
 },
 "nbformat": 4,
 "nbformat_minor": 5
}
